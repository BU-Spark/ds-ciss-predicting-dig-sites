{
 "cells": [
  {
   "cell_type": "code",
   "execution_count": 1,
   "metadata": {},
   "outputs": [],
   "source": [
    "import pandas as pd\n",
    "import numpy as np\n",
    "from geopy.distance import geodesic\n",
    "from tqdm.notebook import tqdm"
   ]
  },
  {
   "cell_type": "code",
   "execution_count": 2,
   "metadata": {},
   "outputs": [
    {
     "data": {
      "text/html": [
       "<div>\n",
       "<style scoped>\n",
       "    .dataframe tbody tr th:only-of-type {\n",
       "        vertical-align: middle;\n",
       "    }\n",
       "\n",
       "    .dataframe tbody tr th {\n",
       "        vertical-align: top;\n",
       "    }\n",
       "\n",
       "    .dataframe thead th {\n",
       "        text-align: right;\n",
       "    }\n",
       "</style>\n",
       "<table border=\"1\" class=\"dataframe\">\n",
       "  <thead>\n",
       "    <tr style=\"text-align: right;\">\n",
       "      <th></th>\n",
       "      <th>x</th>\n",
       "      <th>y</th>\n",
       "    </tr>\n",
       "  </thead>\n",
       "  <tbody>\n",
       "    <tr>\n",
       "      <th>0</th>\n",
       "      <td>13.47</td>\n",
       "      <td>42.900000</td>\n",
       "    </tr>\n",
       "    <tr>\n",
       "      <th>1</th>\n",
       "      <td>13.47</td>\n",
       "      <td>42.911124</td>\n",
       "    </tr>\n",
       "    <tr>\n",
       "      <th>2</th>\n",
       "      <td>13.47</td>\n",
       "      <td>42.922249</td>\n",
       "    </tr>\n",
       "    <tr>\n",
       "      <th>3</th>\n",
       "      <td>13.47</td>\n",
       "      <td>42.933373</td>\n",
       "    </tr>\n",
       "    <tr>\n",
       "      <th>4</th>\n",
       "      <td>13.47</td>\n",
       "      <td>42.944498</td>\n",
       "    </tr>\n",
       "    <tr>\n",
       "      <th>...</th>\n",
       "      <td>...</td>\n",
       "      <td>...</td>\n",
       "    </tr>\n",
       "    <tr>\n",
       "      <th>62495</th>\n",
       "      <td>17.75</td>\n",
       "      <td>45.625502</td>\n",
       "    </tr>\n",
       "    <tr>\n",
       "      <th>62496</th>\n",
       "      <td>17.75</td>\n",
       "      <td>45.636627</td>\n",
       "    </tr>\n",
       "    <tr>\n",
       "      <th>62497</th>\n",
       "      <td>17.75</td>\n",
       "      <td>45.647751</td>\n",
       "    </tr>\n",
       "    <tr>\n",
       "      <th>62498</th>\n",
       "      <td>17.75</td>\n",
       "      <td>45.658876</td>\n",
       "    </tr>\n",
       "    <tr>\n",
       "      <th>62499</th>\n",
       "      <td>17.75</td>\n",
       "      <td>45.670000</td>\n",
       "    </tr>\n",
       "  </tbody>\n",
       "</table>\n",
       "<p>62500 rows × 2 columns</p>\n",
       "</div>"
      ],
      "text/plain": [
       "           x          y\n",
       "0      13.47  42.900000\n",
       "1      13.47  42.911124\n",
       "2      13.47  42.922249\n",
       "3      13.47  42.933373\n",
       "4      13.47  42.944498\n",
       "...      ...        ...\n",
       "62495  17.75  45.625502\n",
       "62496  17.75  45.636627\n",
       "62497  17.75  45.647751\n",
       "62498  17.75  45.658876\n",
       "62499  17.75  45.670000\n",
       "\n",
       "[62500 rows x 2 columns]"
      ]
     },
     "execution_count": 2,
     "metadata": {},
     "output_type": "execute_result"
    }
   ],
   "source": [
    "bounds = {\n",
    "    'x': (13.47, 17.75),\n",
    "    'y': (42.9, 45.67),\n",
    "}\n",
    "\n",
    "n_points = 250\n",
    "\n",
    "df = pd.DataFrame({'x': [], 'y': []})\n",
    "\n",
    "all_y = np.linspace(bounds['y'][0], bounds['y'][1], n_points)\n",
    "all_x = np.linspace(bounds['x'][0], bounds['x'][1], n_points)\n",
    "\n",
    "all_points = np.array(np.meshgrid(all_x, all_y)).T.reshape(-1, 2)\n",
    "\n",
    "df = pd.DataFrame(all_points, columns=['x', 'y'])\n",
    "df"
   ]
  },
  {
   "cell_type": "code",
   "execution_count": 3,
   "metadata": {},
   "outputs": [],
   "source": [
    "df.to_csv('data/test_points.csv', index=False)"
   ]
  },
  {
   "cell_type": "code",
   "execution_count": 4,
   "metadata": {},
   "outputs": [
    {
     "data": {
      "text/html": [
       "<div>\n",
       "<style scoped>\n",
       "    .dataframe tbody tr th:only-of-type {\n",
       "        vertical-align: middle;\n",
       "    }\n",
       "\n",
       "    .dataframe tbody tr th {\n",
       "        vertical-align: top;\n",
       "    }\n",
       "\n",
       "    .dataframe thead th {\n",
       "        text-align: right;\n",
       "    }\n",
       "</style>\n",
       "<table border=\"1\" class=\"dataframe\">\n",
       "  <thead>\n",
       "    <tr style=\"text-align: right;\">\n",
       "      <th></th>\n",
       "      <th>x</th>\n",
       "      <th>y</th>\n",
       "    </tr>\n",
       "  </thead>\n",
       "  <tbody>\n",
       "    <tr>\n",
       "      <th>0</th>\n",
       "      <td>14.470</td>\n",
       "      <td>42.392000</td>\n",
       "    </tr>\n",
       "    <tr>\n",
       "      <th>1</th>\n",
       "      <td>14.470</td>\n",
       "      <td>42.401285</td>\n",
       "    </tr>\n",
       "    <tr>\n",
       "      <th>2</th>\n",
       "      <td>14.470</td>\n",
       "      <td>42.410570</td>\n",
       "    </tr>\n",
       "    <tr>\n",
       "      <th>3</th>\n",
       "      <td>14.470</td>\n",
       "      <td>42.419855</td>\n",
       "    </tr>\n",
       "    <tr>\n",
       "      <th>4</th>\n",
       "      <td>14.470</td>\n",
       "      <td>42.429141</td>\n",
       "    </tr>\n",
       "    <tr>\n",
       "      <th>...</th>\n",
       "      <td>...</td>\n",
       "      <td>...</td>\n",
       "    </tr>\n",
       "    <tr>\n",
       "      <th>62495</th>\n",
       "      <td>18.534</td>\n",
       "      <td>44.666859</td>\n",
       "    </tr>\n",
       "    <tr>\n",
       "      <th>62496</th>\n",
       "      <td>18.534</td>\n",
       "      <td>44.676145</td>\n",
       "    </tr>\n",
       "    <tr>\n",
       "      <th>62497</th>\n",
       "      <td>18.534</td>\n",
       "      <td>44.685430</td>\n",
       "    </tr>\n",
       "    <tr>\n",
       "      <th>62498</th>\n",
       "      <td>18.534</td>\n",
       "      <td>44.694715</td>\n",
       "    </tr>\n",
       "    <tr>\n",
       "      <th>62499</th>\n",
       "      <td>18.534</td>\n",
       "      <td>44.704000</td>\n",
       "    </tr>\n",
       "  </tbody>\n",
       "</table>\n",
       "<p>62500 rows × 2 columns</p>\n",
       "</div>"
      ],
      "text/plain": [
       "            x          y\n",
       "0      14.470  42.392000\n",
       "1      14.470  42.401285\n",
       "2      14.470  42.410570\n",
       "3      14.470  42.419855\n",
       "4      14.470  42.429141\n",
       "...       ...        ...\n",
       "62495  18.534  44.666859\n",
       "62496  18.534  44.676145\n",
       "62497  18.534  44.685430\n",
       "62498  18.534  44.694715\n",
       "62499  18.534  44.704000\n",
       "\n",
       "[62500 rows x 2 columns]"
      ]
     },
     "execution_count": 4,
     "metadata": {},
     "output_type": "execute_result"
    }
   ],
   "source": [
    "bounds = {\n",
    "    'x': (14.47, 18.534),\n",
    "    'y': (42.392, 44.704),\n",
    "}\n",
    "\n",
    "n_points = 250\n",
    "\n",
    "df = pd.DataFrame({'x': [], 'y': []})\n",
    "\n",
    "all_y = np.linspace(bounds['y'][0], bounds['y'][1], n_points)\n",
    "all_x = np.linspace(bounds['x'][0], bounds['x'][1], n_points)\n",
    "\n",
    "all_points = np.array(np.meshgrid(all_x, all_y)).T.reshape(-1, 2)\n",
    "\n",
    "df = pd.DataFrame(all_points, columns=['x', 'y'])\n",
    "df"
   ]
  },
  {
   "cell_type": "code",
   "execution_count": 5,
   "metadata": {},
   "outputs": [
    {
     "data": {
      "application/vnd.jupyter.widget-view+json": {
       "model_id": "7c747e5c6894444dad0d65f7922f8520",
       "version_major": 2,
       "version_minor": 0
      },
      "text/plain": [
       "Calculating vertical distances:   0%|          | 0/62500 [00:00<?, ?it/s]"
      ]
     },
     "metadata": {},
     "output_type": "display_data"
    },
    {
     "data": {
      "application/vnd.jupyter.widget-view+json": {
       "model_id": "692b20c4284847fe8fa2e343f3a3fea4",
       "version_major": 2,
       "version_minor": 0
      },
      "text/plain": [
       "Calculating horizontal distances:   0%|          | 0/62500 [00:00<?, ?it/s]"
      ]
     },
     "metadata": {},
     "output_type": "display_data"
    }
   ],
   "source": [
    "prev = None\n",
    "ver_distances = []\n",
    "\n",
    "for i, row in tqdm(df.iterrows(), total=len(df), desc='Calculating vertical distances'):\n",
    "    if prev is not None:\n",
    "        ver_distances.append(geodesic((prev['y'], prev['x']), (row['y'], row['x'])).m)\n",
    "    prev = row\n",
    "\n",
    "vdist = pd.DataFrame(ver_distances, columns=['distance'])\n",
    "vdist = vdist[vdist['distance'] < 1500]\n",
    "\n",
    "prev = None\n",
    "hor_distance = []\n",
    "\n",
    "hor_df = df.copy().sort_values(by=['y', 'x'])\n",
    "\n",
    "for i, row in tqdm(hor_df.iterrows(), total=len(hor_df), desc='Calculating horizontal distances'):\n",
    "    if prev is not None:\n",
    "        hor_distance.append(geodesic((prev['y'], prev['x']), (row['y'], row['x'])).m)\n",
    "    prev = row\n",
    "\n",
    "hdist = pd.DataFrame(hor_distance, columns=['distance'])\n",
    "hdist = hdist[hdist['distance'] < 1500]\n",
    "\n",
    "avg_vertical_dist = np.sqrt(hdist[\"distance\"].mean()**2 + vdist[\"distance\"].mean()**2)"
   ]
  },
  {
   "cell_type": "code",
   "execution_count": 6,
   "metadata": {},
   "outputs": [
    {
     "name": "stdout",
     "output_type": "stream",
     "text": [
      "Average vertical distance (m): 1031.6109579001693\n",
      "Average horizontal distance (m): 1318.8744130342463\n",
      "Average diagonal distance (m): 1674.4106084876948\n"
     ]
    }
   ],
   "source": [
    "print(f'Average vertical distance (m): {vdist[\"distance\"].mean()}')\n",
    "print(f'Average horizontal distance (m): {hdist[\"distance\"].mean()}')\n",
    "print(f'Average diagonal distance (m): {avg_vertical_dist}')"
   ]
  },
  {
   "cell_type": "code",
   "execution_count": null,
   "metadata": {},
   "outputs": [],
   "source": [
    "df.to_csv('data/test_points_spec.csv', index=False)"
   ]
  }
 ],
 "metadata": {
  "kernelspec": {
   "display_name": "Python 3",
   "language": "python",
   "name": "python3"
  },
  "language_info": {
   "codemirror_mode": {
    "name": "ipython",
    "version": 3
   },
   "file_extension": ".py",
   "mimetype": "text/x-python",
   "name": "python",
   "nbconvert_exporter": "python",
   "pygments_lexer": "ipython3",
   "version": "3.12.3"
  }
 },
 "nbformat": 4,
 "nbformat_minor": 2
}
