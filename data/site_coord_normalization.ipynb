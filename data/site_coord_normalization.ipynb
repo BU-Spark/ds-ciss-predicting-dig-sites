{
 "cells": [
  {
   "cell_type": "code",
   "execution_count": null,
   "metadata": {},
   "outputs": [],
   "source": [
    "%pip install pandas numpy python-calamine openpyxl -U --quiet"
   ]
  },
  {
   "cell_type": "code",
   "execution_count": null,
   "metadata": {},
   "outputs": [],
   "source": [
    "import pandas as pd\n",
    "import numpy as np\n",
    "import re\n",
    "\n",
    "load = \"KnownSites_manualedit.xlsx\"\n",
    "sink = \"KnownSites_normalized.csv\""
   ]
  },
  {
   "cell_type": "code",
   "execution_count": null,
   "metadata": {},
   "outputs": [],
   "source": [
    "df = pd.read_excel(load, engine='calamine')\n",
    "unnamed = [col for col in df.columns if 'Unnamed' in col]\n",
    "df = df.drop(columns=unnamed)\n",
    "df.head()"
   ]
  },
  {
   "cell_type": "code",
   "execution_count": null,
   "metadata": {},
   "outputs": [],
   "source": [
    "def normalize(string: str):\n",
    "    if re.match(r\"\\d+\\.\\d+\\s*[Ne]*,\\s*\\d+\\.\\d+\\s*[Ee]*\", string.strip()):\n",
    "        temp = string.upper().replace(\"N\", \"\").replace(\"E\", \"\").split(\",\")\n",
    "        return tuple(map(float, temp))\n",
    "    \n",
    "    elif re.match(r\"\"\"\\d+[°]\\s*\\d*[']*\\s*\\d*[.]*\\d*[\"']*\\s*[Nn]\\s*[,]{1}\\s*\\d+[°]\\s*\\d*[']*\\s*\\d*[\"']*[.]*\\d*\\s*[Ee]*\"\"\", string.strip()):\n",
    "        temp = [re.split('[°\\'\"]', i) for i in string.split(\",\")]\n",
    "        \n",
    "        return tuple(map(convert, temp))\n",
    "    \n",
    "    else:\n",
    "        return (0, 0)\n",
    "    \n",
    "def convert(values: list):\n",
    "    values = [i.strip() for i in values if i.strip() != \"\"]\n",
    "    total = 0\n",
    "    for i, value in enumerate(values):\n",
    "        if value.lower() in [\"w\", \"s\"]:\n",
    "            total *= -1\n",
    "            break\n",
    "        elif value.lower() in [\"e\", \"n\"]:\n",
    "            break\n",
    "        if i == 0:\n",
    "            total += float(value.strip())\n",
    "        elif i == 1:\n",
    "            total += float(value)/60\n",
    "        elif i == 2:\n",
    "            total += float(value)/3600\n",
    "    \n",
    "    return total\n",
    "        \n",
    "\n",
    "test = df.copy()\n",
    "normalized = test['COORDINATES'].apply(normalize)\n",
    "test.loc[:,'coord_ns'], test.loc[:,'coord_ew'] = list(zip(*normalized))[0], list(zip(*normalized))[1]\n",
    "test"
   ]
  },
  {
   "cell_type": "code",
   "execution_count": null,
   "metadata": {},
   "outputs": [],
   "source": [
    "fail = test[(test['coord_ns'] == 0) & (test['coord_ew'] == 0)]\n",
    "correct = test[(test['coord_ns'] != 0) & (test['coord_ew'] != 0)]\n",
    "\n",
    "fail"
   ]
  },
  {
   "cell_type": "code",
   "execution_count": null,
   "metadata": {},
   "outputs": [],
   "source": [
    "correct.describe()"
   ]
  },
  {
   "cell_type": "code",
   "execution_count": null,
   "metadata": {},
   "outputs": [],
   "source": [
    "correct.to_excel(\"KnownSites_normalized.xlsx\", index=False)"
   ]
  },
  {
   "cell_type": "code",
   "execution_count": null,
   "metadata": {},
   "outputs": [],
   "source": []
  }
 ],
 "metadata": {
  "kernelspec": {
   "display_name": "Python 3",
   "language": "python",
   "name": "python3"
  },
  "language_info": {
   "codemirror_mode": {
    "name": "ipython",
    "version": 3
   },
   "file_extension": ".py",
   "mimetype": "text/x-python",
   "name": "python",
   "nbconvert_exporter": "python",
   "pygments_lexer": "ipython3",
   "version": "3.10.11"
  }
 },
 "nbformat": 4,
 "nbformat_minor": 2
}
